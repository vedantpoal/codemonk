{
 "cells": [
  {
   "cell_type": "code",
   "execution_count": null,
   "metadata": {},
   "outputs": [],
   "source": [
    "# Import necessary libraries\n",
    "import os\n",
    "import torch\n",
    "import pandas as pd\n",
    "import numpy as np\n",
    "import matplotlib.pyplot as plt\n",
    "from src.train import train_model\n",
    "from src.inference import FashionPredictor\n",
    "\n",
    "# Check if GPU is available\n",
    "device = torch.device('cuda' if torch.cuda.is_available() else 'cpu')\n",
    "print(f\"Using device: {device}\")\n",
    "\n",
    "# Ensure directories exist\n",
    "os.makedirs('models', exist_ok=True)\n",
    "\n",
    "# Train the model\n",
    "model, dataset = train_model(num_epochs=10, batch_size=32, image_size=224, learning_rate=1e-4)\n",
    "\n",
    "# Make predictions on sample images\n",
    "predictor = FashionPredictor()\n",
    "\n",
    "# Example prediction\n",
    "sample_image_path = 'D:/projects/codemonk/archive/fashion-dataset/images/1163.jpg'  # Replace with your image path\n",
    "predictions = predictor.predict(sample_image_path)\n",
    "\n",
    "print(\"Predictions:\")\n",
    "print(f\"Color: {predictions['color']}\")\n",
    "print(f\"Product Type: {predictions['product_type']}\")\n",
    "print(f\"Season: {predictions['season']}\")\n",
    "print(f\"Gender: {predictions['gender']}\")\n",
    "\n",
    "# Visualize the prediction\n",
    "image = plt.imread(sample_image_path)\n",
    "plt.imshow(image)\n",
    "plt.title(f\"Predicted: {predictions['product_type']} ({predictions['color']})\")\n",
    "plt.axis('off')\n",
    "plt.show()"
   ]
  },
  {
   "cell_type": "code",
   "execution_count": null,
   "metadata": {},
   "outputs": [],
   "source": [
    "pip install torch==2.0.1 torchvision==0.15.2 pandas==2.0.3 numpy==1.26.4 scikit-learn==1.2.2 matplotlib==3.7.1 tqdm==4.65.0 opencv-python==4.7.0.68"
   ]
  }
 ],
 "metadata": {
  "kernelspec": {
   "display_name": "tf_env",
   "language": "python",
   "name": "python3"
  },
  "language_info": {
   "codemirror_mode": {
    "name": "ipython",
    "version": 3
   },
   "file_extension": ".py",
   "mimetype": "text/x-python",
   "name": "python",
   "nbconvert_exporter": "python",
   "pygments_lexer": "ipython3",
   "version": "3.10.15"
  }
 },
 "nbformat": 4,
 "nbformat_minor": 2
}
