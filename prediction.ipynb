{
 "cells": [
  {
   "cell_type": "code",
   "execution_count": 1,
   "metadata": {},
   "outputs": [
    {
     "name": "stdout",
     "output_type": "stream",
     "text": [
      "Images DataFrame head:\n",
      "    filename                                               link\n",
      "0  15970.jpg  http://assets.myntassets.com/v1/images/style/p...\n",
      "1  39386.jpg  http://assets.myntassets.com/v1/images/style/p...\n",
      "2  59263.jpg  http://assets.myntassets.com/v1/images/style/p...\n",
      "3  21379.jpg  http://assets.myntassets.com/v1/images/style/p...\n",
      "4  53759.jpg  http://assets.myntassets.com/v1/images/style/p...\n",
      "\n",
      "Styles DataFrame head:\n",
      "      id gender masterCategory subCategory  articleType baseColour  season  \\\n",
      "0  15970    Men        Apparel     Topwear       Shirts  Navy Blue    Fall   \n",
      "1  39386    Men        Apparel  Bottomwear        Jeans       Blue  Summer   \n",
      "2  59263  Women    Accessories     Watches      Watches     Silver  Winter   \n",
      "3  21379    Men        Apparel  Bottomwear  Track Pants      Black    Fall   \n",
      "4  53759    Men        Apparel     Topwear      Tshirts       Grey  Summer   \n",
      "\n",
      "     year   usage                             productDisplayName  \n",
      "0  2011.0  Casual               Turtle Check Men Navy Blue Shirt  \n",
      "1  2012.0  Casual             Peter England Men Party Blue Jeans  \n",
      "2  2016.0  Casual                       Titan Women Silver Watch  \n",
      "3  2011.0  Casual  Manchester United Men Solid Black Track Pants  \n",
      "4  2012.0  Casual                          Puma Men Grey T-shirt  \n",
      "\n",
      "Unique 'filename' values in images_df: 44446\n",
      "Unique 'id' values in styles_df: 44424\n",
      "\n",
      "Common values between 'filename' and 'id': 44424\n",
      "\n",
      "Merged DataFrame shape: (44077, 12)\n",
      "Missing image: D:/projects/codemonk/archive/fashion-dataset/images\\39403.jpg\n",
      "Missing image: D:/projects/codemonk/archive/fashion-dataset/images\\39410.jpg\n",
      "Missing image: D:/projects/codemonk/archive/fashion-dataset/images\\39401.jpg\n",
      "Missing image: D:/projects/codemonk/archive/fashion-dataset/images\\39425.jpg\n",
      "Missing image: D:/projects/codemonk/archive/fashion-dataset/images\\12347.jpg\n",
      "Dataset contains 44072 valid samples after filtering\n"
     ]
    },
    {
     "name": "stderr",
     "output_type": "stream",
     "text": [
      "c:\\Users\\vedan\\anaconda3\\envs\\tf_env\\lib\\site-packages\\torchvision\\models\\_utils.py:208: UserWarning: The parameter 'pretrained' is deprecated since 0.13 and may be removed in the future, please use 'weights' instead.\n",
      "  warnings.warn(\n",
      "c:\\Users\\vedan\\anaconda3\\envs\\tf_env\\lib\\site-packages\\torchvision\\models\\_utils.py:223: UserWarning: Arguments other than a weight enum or `None` for 'weights' are deprecated since 0.13 and may be removed in the future. The current behavior is equivalent to passing `weights=ResNet50_Weights.IMAGENET1K_V1`. You can also use `weights=ResNet50_Weights.DEFAULT` to get the most up-to-date weights.\n",
      "  warnings.warn(msg)\n"
     ]
    },
    {
     "name": "stdout",
     "output_type": "stream",
     "text": [
      "Predictions:\n",
      "Color: Blue\n",
      "Product Type: Tshirts\n",
      "Season: Summer\n",
      "Gender: Men\n"
     ]
    }
   ],
   "source": [
    "# In your Jupyter notebook\n",
    "from src.inference import FashionPredictor\n",
    "\n",
    "# Initialize predictor\n",
    "predictor = FashionPredictor(\n",
    "    model_path='D:/projects/codemonk/models/best_model.pth',\n",
    "    images_csv_path='D:/projects/codemonk/archive/fashion-dataset/images.csv',\n",
    "    styles_csv_path='D:/projects/codemonk/archive/fashion-dataset/styles.csv'\n",
    ")\n",
    "\n",
    "# Predict on a sample image\n",
    "sample_image_path = 'D:/projects/codemonk/archive/fashion-dataset/images/1163.jpg'  # Replace with your image path\n",
    "predictions = predictor.predict(sample_image_path)\n",
    "\n",
    "print(\"Predictions:\")\n",
    "print(f\"Color: {predictions['color']}\")\n",
    "print(f\"Product Type: {predictions['product_type']}\")\n",
    "print(f\"Season: {predictions['season']}\")\n",
    "print(f\"Gender: {predictions['gender']}\")"
   ]
  }
 ],
 "metadata": {
  "kernelspec": {
   "display_name": "tf_env",
   "language": "python",
   "name": "python3"
  },
  "language_info": {
   "codemirror_mode": {
    "name": "ipython",
    "version": 3
   },
   "file_extension": ".py",
   "mimetype": "text/x-python",
   "name": "python",
   "nbconvert_exporter": "python",
   "pygments_lexer": "ipython3",
   "version": "3.10.15"
  }
 },
 "nbformat": 4,
 "nbformat_minor": 2
}
